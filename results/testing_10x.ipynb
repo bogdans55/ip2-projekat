{
 "cells": [
  {
   "cell_type": "code",
   "execution_count": 7,
   "metadata": {},
   "outputs": [],
   "source": [
    "import numpy as np\n",
    "import matplotlib.pyplot as plt\n",
    "import pandas as pd\n",
    "import seaborn as sns\n",
    "from joblib import load\n",
    "from joblib import dump\n",
    "import myfunctions as mf\n",
    "import os"
   ]
  },
  {
   "cell_type": "code",
   "execution_count": 2,
   "metadata": {},
   "outputs": [],
   "source": [
    "filename = '10x'"
   ]
  },
  {
   "cell_type": "code",
   "execution_count": 3,
   "metadata": {},
   "outputs": [],
   "source": [
    "datapath = '../data/preprocessed_data_' + filename + '.csv'\n",
    "resultspath = 'results_' + filename + '.csv'"
   ]
  },
  {
   "cell_type": "code",
   "execution_count": 4,
   "metadata": {},
   "outputs": [],
   "source": [
    "data = pd.read_csv(datapath)"
   ]
  },
  {
   "cell_type": "code",
   "execution_count": 8,
   "metadata": {},
   "outputs": [],
   "source": [
    "if os.path.exists(resultspath) and os.path.getsize(resultspath) > 0:\n",
    "    results = pd.read_csv(resultspath)\n",
    "else:\n",
    "    results = pd.DataFrame()"
   ]
  },
  {
   "cell_type": "code",
   "execution_count": null,
   "metadata": {},
   "outputs": [],
   "source": [
    "from sklearn.ensemble import RandomForestClassifier\n",
    "\n",
    "rf = load('../models/trained_models/rf.joblib')\n",
    "rf_over = load('../models/trained_models/rf_over.joblib')\n",
    "\n",
    "rf_params = {'max_depth': 15,\n",
    "  'min_samples_leaf': 1,\n",
    "  'min_samples_split': 5,\n",
    "  'n_estimators': 300}\n",
    "\n",
    "results['rf'] = mf.test(data, RandomForestClassifier, rf, rf_params, classes=['B', 'M', 'NK', 'T'])\n",
    "results['rf_over'] = mf.test(data, RandomForestClassifier, rf_over, rf_params, classes=['B', 'M', 'NK', 'T'])"
   ]
  },
  {
   "cell_type": "code",
   "execution_count": null,
   "metadata": {},
   "outputs": [],
   "source": [
    "from xgboost import XGBClassifier\n",
    "\n",
    "xg = load('../models/trained_models/xg.joblib')\n",
    "xg_over = load('../models/trained_models/xg_over.joblib')\n",
    "\n",
    "xg_params = {'learning_rate': 0.2, 'max_depth': 4, 'n_estimators': 300}\n",
    "\n",
    "results['xg'] = mf.test(data, XGBClassifier, xg, xg_params, classes=['B', 'M', 'NK', 'T'])\n",
    "results['xg_over'] = mf.test(data, XGBClassifier, xg_over, xg_params, classes=['B', 'M', 'NK', 'T'])"
   ]
  },
  {
   "cell_type": "code",
   "execution_count": null,
   "metadata": {},
   "outputs": [],
   "source": [
    "from sklearn.linear_model import LogisticRegression\n",
    "\n",
    "log_reg = load('../models/trained_models/log_reg.joblib')\n",
    "log_reg_cw = load('../models/trained_models/log_reg_cw.joblib')\n",
    "log_reg_over = load('../models/trained_models/log_reg_over.joblib')\n",
    "\n",
    "log_reg_params = {'C': 0.001, 'penalty': 'l2', 'solver': 'sag'}\n",
    "log_reg_cw_params = {'C': 0.001, 'penalty': 'l2', 'solver': 'sag', 'class_weight' : 'balanced'}\n",
    "\n",
    "results['log_reg'] = mf.test(data, LogisticRegression, log_reg, log_reg_params, classes=['B', 'M', 'NK', 'T'])\n",
    "results['log_reg_cw'] = mf.test(data, LogisticRegression, log_reg_cw, log_reg_params, classes=['B', 'M', 'NK', 'T'])\n",
    "results['log_reg_over'] = mf.test(data, LogisticRegression, log_reg_over, log_reg_params, classes=['B', 'M', 'NK', 'T'])"
   ]
  },
  {
   "cell_type": "code",
   "execution_count": null,
   "metadata": {},
   "outputs": [],
   "source": [
    "from sklearn.neural_network import MLPClassifier\n",
    "\n",
    "nn = load('../models/trained_models/nn.joblib')\n",
    "nn_over = load('../models/trained_models/nn_over.joblib')\n",
    "\n",
    "nn_params = {'alpha': 1e-05,\n",
    "  'batch_size': 32,\n",
    "  'hidden_layer_sizes': (50,),\n",
    "  'learning_rate_init': 0.001,\n",
    "  'max_iter': 1000}\n",
    "\n",
    "results['nn'] = mf.test(data, MLPClassifier, nn, nn_params, classes=['B', 'M', 'NK', 'T'])\n",
    "results['nn_over'] = mf.test(data, MLPClassifier, nn_over, nn_params, classes=['B', 'M', 'NK', 'T'])"
   ]
  },
  {
   "cell_type": "code",
   "execution_count": null,
   "metadata": {},
   "outputs": [],
   "source": [
    "results.to_csv(resultspath, index=False)"
   ]
  }
 ],
 "metadata": {
  "kernelspec": {
   "display_name": "Python 3",
   "language": "python",
   "name": "python3"
  },
  "language_info": {
   "codemirror_mode": {
    "name": "ipython",
    "version": 3
   },
   "file_extension": ".py",
   "mimetype": "text/x-python",
   "name": "python",
   "nbconvert_exporter": "python",
   "pygments_lexer": "ipython3",
   "version": "3.11.4"
  }
 },
 "nbformat": 4,
 "nbformat_minor": 2
}
