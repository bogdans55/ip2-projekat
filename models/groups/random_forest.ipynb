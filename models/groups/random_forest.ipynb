{
 "cells": [
  {
   "cell_type": "code",
   "execution_count": 56,
   "metadata": {},
   "outputs": [],
   "source": [
    "import numpy as np\n",
    "import matplotlib.pyplot as plt\n",
    "import pandas as pd\n",
    "import seaborn as sns\n",
    "from joblib import load"
   ]
  },
  {
   "cell_type": "code",
   "execution_count": 57,
   "metadata": {},
   "outputs": [
    {
     "data": {
      "text/html": [
       "<div>\n",
       "<style scoped>\n",
       "    .dataframe tbody tr th:only-of-type {\n",
       "        vertical-align: middle;\n",
       "    }\n",
       "\n",
       "    .dataframe tbody tr th {\n",
       "        vertical-align: top;\n",
       "    }\n",
       "\n",
       "    .dataframe thead th {\n",
       "        text-align: right;\n",
       "    }\n",
       "</style>\n",
       "<table border=\"1\" class=\"dataframe\">\n",
       "  <thead>\n",
       "    <tr style=\"text-align: right;\">\n",
       "      <th></th>\n",
       "      <th>hg38_ASF1A</th>\n",
       "      <th>hg38_CCT7</th>\n",
       "      <th>hg38_EPOR</th>\n",
       "      <th>hg38_NECAP2</th>\n",
       "      <th>hg38_LRRC8A</th>\n",
       "      <th>hg38_NDUFS8</th>\n",
       "      <th>hg38_MRPL22</th>\n",
       "      <th>hg38_HIST1H2BC</th>\n",
       "      <th>hg38_LY96</th>\n",
       "      <th>hg38_UBE2E2-AS1</th>\n",
       "      <th>...</th>\n",
       "      <th>hg38_ASPSCR1</th>\n",
       "      <th>hg38_CDC20</th>\n",
       "      <th>hg38_DNAJB9</th>\n",
       "      <th>hg38_OSTM1</th>\n",
       "      <th>hg38_LCNL1</th>\n",
       "      <th>hg38_PHB</th>\n",
       "      <th>hg38_LRRC29</th>\n",
       "      <th>hg38_ZFP36</th>\n",
       "      <th>Group</th>\n",
       "      <th>Subgroups</th>\n",
       "    </tr>\n",
       "  </thead>\n",
       "  <tbody>\n",
       "    <tr>\n",
       "      <th>0</th>\n",
       "      <td>0</td>\n",
       "      <td>0</td>\n",
       "      <td>0</td>\n",
       "      <td>0</td>\n",
       "      <td>0</td>\n",
       "      <td>0</td>\n",
       "      <td>0</td>\n",
       "      <td>0</td>\n",
       "      <td>0</td>\n",
       "      <td>0</td>\n",
       "      <td>...</td>\n",
       "      <td>0</td>\n",
       "      <td>0</td>\n",
       "      <td>0</td>\n",
       "      <td>0</td>\n",
       "      <td>0</td>\n",
       "      <td>0</td>\n",
       "      <td>0</td>\n",
       "      <td>0</td>\n",
       "      <td>B</td>\n",
       "      <td>Bmemory</td>\n",
       "    </tr>\n",
       "    <tr>\n",
       "      <th>1</th>\n",
       "      <td>0</td>\n",
       "      <td>0</td>\n",
       "      <td>0</td>\n",
       "      <td>3</td>\n",
       "      <td>0</td>\n",
       "      <td>3</td>\n",
       "      <td>0</td>\n",
       "      <td>0</td>\n",
       "      <td>0</td>\n",
       "      <td>0</td>\n",
       "      <td>...</td>\n",
       "      <td>0</td>\n",
       "      <td>0</td>\n",
       "      <td>0</td>\n",
       "      <td>0</td>\n",
       "      <td>0</td>\n",
       "      <td>0</td>\n",
       "      <td>0</td>\n",
       "      <td>0</td>\n",
       "      <td>B</td>\n",
       "      <td>Bmemory</td>\n",
       "    </tr>\n",
       "    <tr>\n",
       "      <th>2</th>\n",
       "      <td>0</td>\n",
       "      <td>0</td>\n",
       "      <td>0</td>\n",
       "      <td>0</td>\n",
       "      <td>0</td>\n",
       "      <td>0</td>\n",
       "      <td>0</td>\n",
       "      <td>0</td>\n",
       "      <td>0</td>\n",
       "      <td>0</td>\n",
       "      <td>...</td>\n",
       "      <td>0</td>\n",
       "      <td>0</td>\n",
       "      <td>2</td>\n",
       "      <td>0</td>\n",
       "      <td>0</td>\n",
       "      <td>2</td>\n",
       "      <td>0</td>\n",
       "      <td>3</td>\n",
       "      <td>B</td>\n",
       "      <td>Bmemory</td>\n",
       "    </tr>\n",
       "    <tr>\n",
       "      <th>3</th>\n",
       "      <td>0</td>\n",
       "      <td>0</td>\n",
       "      <td>0</td>\n",
       "      <td>0</td>\n",
       "      <td>0</td>\n",
       "      <td>3</td>\n",
       "      <td>0</td>\n",
       "      <td>0</td>\n",
       "      <td>0</td>\n",
       "      <td>0</td>\n",
       "      <td>...</td>\n",
       "      <td>0</td>\n",
       "      <td>0</td>\n",
       "      <td>3</td>\n",
       "      <td>0</td>\n",
       "      <td>0</td>\n",
       "      <td>3</td>\n",
       "      <td>0</td>\n",
       "      <td>0</td>\n",
       "      <td>B</td>\n",
       "      <td>Bmemory</td>\n",
       "    </tr>\n",
       "    <tr>\n",
       "      <th>4</th>\n",
       "      <td>0</td>\n",
       "      <td>0</td>\n",
       "      <td>0</td>\n",
       "      <td>0</td>\n",
       "      <td>0</td>\n",
       "      <td>3</td>\n",
       "      <td>0</td>\n",
       "      <td>0</td>\n",
       "      <td>0</td>\n",
       "      <td>0</td>\n",
       "      <td>...</td>\n",
       "      <td>0</td>\n",
       "      <td>0</td>\n",
       "      <td>0</td>\n",
       "      <td>0</td>\n",
       "      <td>0</td>\n",
       "      <td>0</td>\n",
       "      <td>0</td>\n",
       "      <td>0</td>\n",
       "      <td>B</td>\n",
       "      <td>Bmemory</td>\n",
       "    </tr>\n",
       "  </tbody>\n",
       "</table>\n",
       "<p>5 rows × 10563 columns</p>\n",
       "</div>"
      ],
      "text/plain": [
       "   hg38_ASF1A  hg38_CCT7  hg38_EPOR  hg38_NECAP2  hg38_LRRC8A  hg38_NDUFS8  \\\n",
       "0           0          0          0            0            0            0   \n",
       "1           0          0          0            3            0            3   \n",
       "2           0          0          0            0            0            0   \n",
       "3           0          0          0            0            0            3   \n",
       "4           0          0          0            0            0            3   \n",
       "\n",
       "   hg38_MRPL22  hg38_HIST1H2BC  hg38_LY96  hg38_UBE2E2-AS1  ...  hg38_ASPSCR1  \\\n",
       "0            0               0          0                0  ...             0   \n",
       "1            0               0          0                0  ...             0   \n",
       "2            0               0          0                0  ...             0   \n",
       "3            0               0          0                0  ...             0   \n",
       "4            0               0          0                0  ...             0   \n",
       "\n",
       "   hg38_CDC20  hg38_DNAJB9  hg38_OSTM1  hg38_LCNL1  hg38_PHB  hg38_LRRC29  \\\n",
       "0           0            0           0           0         0            0   \n",
       "1           0            0           0           0         0            0   \n",
       "2           0            2           0           0         2            0   \n",
       "3           0            3           0           0         3            0   \n",
       "4           0            0           0           0         0            0   \n",
       "\n",
       "   hg38_ZFP36  Group  Subgroups  \n",
       "0           0      B    Bmemory  \n",
       "1           0      B    Bmemory  \n",
       "2           3      B    Bmemory  \n",
       "3           0      B    Bmemory  \n",
       "4           0      B    Bmemory  \n",
       "\n",
       "[5 rows x 10563 columns]"
      ]
     },
     "execution_count": 57,
     "metadata": {},
     "output_type": "execute_result"
    }
   ],
   "source": [
    "data_bs1 = pd.read_csv('../../data/preprocessed_data_BS1.csv')\n",
    "data_bs1.head()"
   ]
  },
  {
   "cell_type": "code",
   "execution_count": 58,
   "metadata": {},
   "outputs": [],
   "source": [
    "X = data_bs1.drop(['Group', 'Subgroups'], axis=1)\n",
    "y = data_bs1['Group']"
   ]
  },
  {
   "cell_type": "code",
   "execution_count": 59,
   "metadata": {},
   "outputs": [
    {
     "data": {
      "text/plain": [
       "array(['B', 'D', 'M', 'NK', 'T'], dtype=object)"
      ]
     },
     "execution_count": 59,
     "metadata": {},
     "output_type": "execute_result"
    }
   ],
   "source": [
    "y.unique()"
   ]
  },
  {
   "cell_type": "code",
   "execution_count": 60,
   "metadata": {},
   "outputs": [],
   "source": [
    "from sklearn.model_selection import train_test_split\n",
    "\n",
    "X_train, X_test, y_train, y_test = train_test_split(X, y, test_size=0.3, random_state=55)"
   ]
  },
  {
   "cell_type": "code",
   "execution_count": 61,
   "metadata": {},
   "outputs": [],
   "source": [
    "from sklearn.metrics import confusion_matrix, accuracy_score, precision_score, recall_score, f1_score"
   ]
  },
  {
   "cell_type": "code",
   "execution_count": 62,
   "metadata": {},
   "outputs": [],
   "source": [
    "def model_info(y_real, y_pred):\n",
    "    print('Confusion matrix: \\n', confusion_matrix(y_real, y_pred))\n",
    "    print('Accuracy score: ', accuracy_score(y_real, y_pred))\n",
    "    print('Precision score: ', precision_score(y_real, y_pred, average='weighted', zero_division=0))\n",
    "    print('Recall score: ', recall_score(y_real, y_pred, average='weighted'))\n",
    "    print('F1 score: ', f1_score(y_real, y_pred, average='weighted'))"
   ]
  },
  {
   "cell_type": "code",
   "execution_count": 63,
   "metadata": {},
   "outputs": [],
   "source": [
    "def build_model(model, X_train, X_test, y_train, y_test):\n",
    "    model.fit(X_train, y_train)\n",
    "\n",
    "    print('Train data:\\n')\n",
    "    y_train_pred = model.predict(X_train)\n",
    "    model_info(y_train, y_train_pred)\n",
    "\n",
    "    print('\\n--------------------------------------\\n')\n",
    "\n",
    "    print('Test data:\\n')\n",
    "    y_pred = model.predict(X_test)\n",
    "    model_info(y_test, y_pred)\n",
    "\n",
    "    return model"
   ]
  },
  {
   "cell_type": "code",
   "execution_count": 64,
   "metadata": {},
   "outputs": [],
   "source": [
    "def test_model(model, file):\n",
    "    test_data = pd.read_csv(file)\n",
    "\n",
    "    X_test_data = test_data.drop(['Group', 'Subgroups'], axis=1)\n",
    "    y_test_data = test_data['Group']\n",
    "\n",
    "    print(y_test_data.unique())\n",
    "\n",
    "    y_pred = model.predict(X_test_data)\n",
    "\n",
    "    model_info(y_test_data, y_pred)"
   ]
  },
  {
   "cell_type": "code",
   "execution_count": 65,
   "metadata": {},
   "outputs": [],
   "source": [
    "from sklearn.ensemble import RandomForestClassifier\n",
    "\n",
    "model_bs1 = RandomForestClassifier(n_estimators=100, random_state=55)"
   ]
  },
  {
   "cell_type": "code",
   "execution_count": 66,
   "metadata": {},
   "outputs": [
    {
     "name": "stdout",
     "output_type": "stream",
     "text": [
      "Train data:\n",
      "\n",
      "Confusion matrix: \n",
      " [[1142    0    0    0    0]\n",
      " [   0  101    0    0    0]\n",
      " [   0    0 1165    0    0]\n",
      " [   0    0    0 1002    0]\n",
      " [   0    0    0    0 5818]]\n",
      "Accuracy score:  1.0\n",
      "Precision score:  1.0\n",
      "Recall score:  1.0\n",
      "F1 score:  1.0\n",
      "\n",
      "--------------------------------------\n",
      "\n",
      "Test data:\n",
      "\n",
      "Confusion matrix: \n",
      " [[ 516    1    1    0    0]\n",
      " [   0   36    5    0    0]\n",
      " [   0    0  494    0    2]\n",
      " [   1    0    0  319   72]\n",
      " [   2    0    1   71 2434]]\n",
      "Accuracy score:  0.9605562579013907\n",
      "Precision score:  0.9604559873461571\n",
      "Recall score:  0.9605562579013907\n",
      "F1 score:  0.9604771148235505\n"
     ]
    }
   ],
   "source": [
    "model_bs1 = build_model(model_bs1, X_train, X_test, y_train, y_test)"
   ]
  },
  {
   "cell_type": "code",
   "execution_count": 67,
   "metadata": {},
   "outputs": [
    {
     "name": "stdout",
     "output_type": "stream",
     "text": [
      "Fitting 5 folds for each of 18 candidates, totalling 90 fits\n",
      "[CV] END ...criterion=gini, max_depth=None, n_estimators=100; total time=  10.7s\n",
      "[CV] END ...criterion=gini, max_depth=None, n_estimators=100; total time=   9.9s\n",
      "[CV] END ...criterion=gini, max_depth=None, n_estimators=100; total time=   9.6s\n",
      "[CV] END ...criterion=gini, max_depth=None, n_estimators=100; total time=   9.5s\n",
      "[CV] END ...criterion=gini, max_depth=None, n_estimators=100; total time=   9.4s\n",
      "[CV] END ...criterion=gini, max_depth=None, n_estimators=200; total time=  17.9s\n",
      "[CV] END ...criterion=gini, max_depth=None, n_estimators=200; total time=  18.4s\n",
      "[CV] END ...criterion=gini, max_depth=None, n_estimators=200; total time=  18.6s\n",
      "[CV] END ...criterion=gini, max_depth=None, n_estimators=200; total time=  18.3s\n",
      "[CV] END ...criterion=gini, max_depth=None, n_estimators=200; total time=  18.5s\n",
      "[CV] END ...criterion=gini, max_depth=None, n_estimators=300; total time=  27.0s\n",
      "[CV] END ...criterion=gini, max_depth=None, n_estimators=300; total time=  27.1s\n",
      "[CV] END ...criterion=gini, max_depth=None, n_estimators=300; total time=  27.1s\n",
      "[CV] END ...criterion=gini, max_depth=None, n_estimators=300; total time=  27.0s\n",
      "[CV] END ...criterion=gini, max_depth=None, n_estimators=300; total time=  28.4s\n",
      "[CV] END .....criterion=gini, max_depth=15, n_estimators=100; total time=   7.5s\n",
      "[CV] END .....criterion=gini, max_depth=15, n_estimators=100; total time=   7.3s\n",
      "[CV] END .....criterion=gini, max_depth=15, n_estimators=100; total time=   7.6s\n",
      "[CV] END .....criterion=gini, max_depth=15, n_estimators=100; total time=   7.3s\n",
      "[CV] END .....criterion=gini, max_depth=15, n_estimators=100; total time=   6.9s\n",
      "[CV] END .....criterion=gini, max_depth=15, n_estimators=200; total time=  13.3s\n",
      "[CV] END .....criterion=gini, max_depth=15, n_estimators=200; total time=  13.0s\n",
      "[CV] END .....criterion=gini, max_depth=15, n_estimators=200; total time=  13.0s\n",
      "[CV] END .....criterion=gini, max_depth=15, n_estimators=200; total time=  13.1s\n",
      "[CV] END .....criterion=gini, max_depth=15, n_estimators=200; total time=  14.2s\n",
      "[CV] END .....criterion=gini, max_depth=15, n_estimators=300; total time=  19.9s\n",
      "[CV] END .....criterion=gini, max_depth=15, n_estimators=300; total time=  19.9s\n",
      "[CV] END .....criterion=gini, max_depth=15, n_estimators=300; total time=  20.0s\n",
      "[CV] END .....criterion=gini, max_depth=15, n_estimators=300; total time=  19.8s\n",
      "[CV] END .....criterion=gini, max_depth=15, n_estimators=300; total time=  20.3s\n",
      "[CV] END .....criterion=gini, max_depth=30, n_estimators=100; total time=   9.4s\n",
      "[CV] END .....criterion=gini, max_depth=30, n_estimators=100; total time=   9.3s\n",
      "[CV] END .....criterion=gini, max_depth=30, n_estimators=100; total time=   9.4s\n",
      "[CV] END .....criterion=gini, max_depth=30, n_estimators=100; total time=   9.7s\n",
      "[CV] END .....criterion=gini, max_depth=30, n_estimators=100; total time=   9.2s\n",
      "[CV] END .....criterion=gini, max_depth=30, n_estimators=200; total time=  17.6s\n",
      "[CV] END .....criterion=gini, max_depth=30, n_estimators=200; total time=  18.2s\n",
      "[CV] END .....criterion=gini, max_depth=30, n_estimators=200; total time=  17.7s\n",
      "[CV] END .....criterion=gini, max_depth=30, n_estimators=200; total time=  18.0s\n",
      "[CV] END .....criterion=gini, max_depth=30, n_estimators=200; total time=  18.2s\n",
      "[CV] END .....criterion=gini, max_depth=30, n_estimators=300; total time=  26.6s\n",
      "[CV] END .....criterion=gini, max_depth=30, n_estimators=300; total time=  26.8s\n",
      "[CV] END .....criterion=gini, max_depth=30, n_estimators=300; total time=  25.9s\n",
      "[CV] END .....criterion=gini, max_depth=30, n_estimators=300; total time=  26.7s\n",
      "[CV] END .....criterion=gini, max_depth=30, n_estimators=300; total time=  27.0s\n",
      "[CV] END criterion=entropy, max_depth=None, n_estimators=100; total time=   7.9s\n",
      "[CV] END criterion=entropy, max_depth=None, n_estimators=100; total time=   7.7s\n",
      "[CV] END criterion=entropy, max_depth=None, n_estimators=100; total time=   8.1s\n",
      "[CV] END criterion=entropy, max_depth=None, n_estimators=100; total time=   7.6s\n",
      "[CV] END criterion=entropy, max_depth=None, n_estimators=100; total time=   7.8s\n",
      "[CV] END criterion=entropy, max_depth=None, n_estimators=200; total time=  15.3s\n",
      "[CV] END criterion=entropy, max_depth=None, n_estimators=200; total time=  15.0s\n",
      "[CV] END criterion=entropy, max_depth=None, n_estimators=200; total time=  15.2s\n",
      "[CV] END criterion=entropy, max_depth=None, n_estimators=200; total time=  14.9s\n",
      "[CV] END criterion=entropy, max_depth=None, n_estimators=200; total time=  14.6s\n",
      "[CV] END criterion=entropy, max_depth=None, n_estimators=300; total time=  21.8s\n",
      "[CV] END criterion=entropy, max_depth=None, n_estimators=300; total time=  22.3s\n",
      "[CV] END criterion=entropy, max_depth=None, n_estimators=300; total time=  21.9s\n",
      "[CV] END criterion=entropy, max_depth=None, n_estimators=300; total time=  21.8s\n",
      "[CV] END criterion=entropy, max_depth=None, n_estimators=300; total time=  21.4s\n",
      "[CV] END ..criterion=entropy, max_depth=15, n_estimators=100; total time=   7.0s\n",
      "[CV] END ..criterion=entropy, max_depth=15, n_estimators=100; total time=   7.4s\n",
      "[CV] END ..criterion=entropy, max_depth=15, n_estimators=100; total time=   7.6s\n",
      "[CV] END ..criterion=entropy, max_depth=15, n_estimators=100; total time=   7.6s\n",
      "[CV] END ..criterion=entropy, max_depth=15, n_estimators=100; total time=   7.3s\n",
      "[CV] END ..criterion=entropy, max_depth=15, n_estimators=200; total time=  13.6s\n",
      "[CV] END ..criterion=entropy, max_depth=15, n_estimators=200; total time=  14.5s\n",
      "[CV] END ..criterion=entropy, max_depth=15, n_estimators=200; total time=  13.7s\n",
      "[CV] END ..criterion=entropy, max_depth=15, n_estimators=200; total time=  15.2s\n",
      "[CV] END ..criterion=entropy, max_depth=15, n_estimators=200; total time=  14.5s\n",
      "[CV] END ..criterion=entropy, max_depth=15, n_estimators=300; total time=  20.0s\n",
      "[CV] END ..criterion=entropy, max_depth=15, n_estimators=300; total time=  19.8s\n",
      "[CV] END ..criterion=entropy, max_depth=15, n_estimators=300; total time=  20.1s\n",
      "[CV] END ..criterion=entropy, max_depth=15, n_estimators=300; total time=  19.4s\n",
      "[CV] END ..criterion=entropy, max_depth=15, n_estimators=300; total time=  19.3s\n",
      "[CV] END ..criterion=entropy, max_depth=30, n_estimators=100; total time=   7.4s\n",
      "[CV] END ..criterion=entropy, max_depth=30, n_estimators=100; total time=   7.5s\n",
      "[CV] END ..criterion=entropy, max_depth=30, n_estimators=100; total time=   8.3s\n",
      "[CV] END ..criterion=entropy, max_depth=30, n_estimators=100; total time=   8.4s\n",
      "[CV] END ..criterion=entropy, max_depth=30, n_estimators=100; total time=   7.7s\n",
      "[CV] END ..criterion=entropy, max_depth=30, n_estimators=200; total time=  14.8s\n",
      "[CV] END ..criterion=entropy, max_depth=30, n_estimators=200; total time=  15.0s\n",
      "[CV] END ..criterion=entropy, max_depth=30, n_estimators=200; total time=  14.7s\n",
      "[CV] END ..criterion=entropy, max_depth=30, n_estimators=200; total time=  14.5s\n",
      "[CV] END ..criterion=entropy, max_depth=30, n_estimators=200; total time=  13.9s\n",
      "[CV] END ..criterion=entropy, max_depth=30, n_estimators=300; total time=  20.6s\n",
      "[CV] END ..criterion=entropy, max_depth=30, n_estimators=300; total time=  20.9s\n",
      "[CV] END ..criterion=entropy, max_depth=30, n_estimators=300; total time=  20.3s\n",
      "[CV] END ..criterion=entropy, max_depth=30, n_estimators=300; total time=  22.0s\n",
      "[CV] END ..criterion=entropy, max_depth=30, n_estimators=300; total time=  21.7s\n"
     ]
    },
    {
     "data": {
      "text/html": [
       "<style>#sk-container-id-2 {color: black;background-color: white;}#sk-container-id-2 pre{padding: 0;}#sk-container-id-2 div.sk-toggleable {background-color: white;}#sk-container-id-2 label.sk-toggleable__label {cursor: pointer;display: block;width: 100%;margin-bottom: 0;padding: 0.3em;box-sizing: border-box;text-align: center;}#sk-container-id-2 label.sk-toggleable__label-arrow:before {content: \"▸\";float: left;margin-right: 0.25em;color: #696969;}#sk-container-id-2 label.sk-toggleable__label-arrow:hover:before {color: black;}#sk-container-id-2 div.sk-estimator:hover label.sk-toggleable__label-arrow:before {color: black;}#sk-container-id-2 div.sk-toggleable__content {max-height: 0;max-width: 0;overflow: hidden;text-align: left;background-color: #f0f8ff;}#sk-container-id-2 div.sk-toggleable__content pre {margin: 0.2em;color: black;border-radius: 0.25em;background-color: #f0f8ff;}#sk-container-id-2 input.sk-toggleable__control:checked~div.sk-toggleable__content {max-height: 200px;max-width: 100%;overflow: auto;}#sk-container-id-2 input.sk-toggleable__control:checked~label.sk-toggleable__label-arrow:before {content: \"▾\";}#sk-container-id-2 div.sk-estimator input.sk-toggleable__control:checked~label.sk-toggleable__label {background-color: #d4ebff;}#sk-container-id-2 div.sk-label input.sk-toggleable__control:checked~label.sk-toggleable__label {background-color: #d4ebff;}#sk-container-id-2 input.sk-hidden--visually {border: 0;clip: rect(1px 1px 1px 1px);clip: rect(1px, 1px, 1px, 1px);height: 1px;margin: -1px;overflow: hidden;padding: 0;position: absolute;width: 1px;}#sk-container-id-2 div.sk-estimator {font-family: monospace;background-color: #f0f8ff;border: 1px dotted black;border-radius: 0.25em;box-sizing: border-box;margin-bottom: 0.5em;}#sk-container-id-2 div.sk-estimator:hover {background-color: #d4ebff;}#sk-container-id-2 div.sk-parallel-item::after {content: \"\";width: 100%;border-bottom: 1px solid gray;flex-grow: 1;}#sk-container-id-2 div.sk-label:hover label.sk-toggleable__label {background-color: #d4ebff;}#sk-container-id-2 div.sk-serial::before {content: \"\";position: absolute;border-left: 1px solid gray;box-sizing: border-box;top: 0;bottom: 0;left: 50%;z-index: 0;}#sk-container-id-2 div.sk-serial {display: flex;flex-direction: column;align-items: center;background-color: white;padding-right: 0.2em;padding-left: 0.2em;position: relative;}#sk-container-id-2 div.sk-item {position: relative;z-index: 1;}#sk-container-id-2 div.sk-parallel {display: flex;align-items: stretch;justify-content: center;background-color: white;position: relative;}#sk-container-id-2 div.sk-item::before, #sk-container-id-2 div.sk-parallel-item::before {content: \"\";position: absolute;border-left: 1px solid gray;box-sizing: border-box;top: 0;bottom: 0;left: 50%;z-index: -1;}#sk-container-id-2 div.sk-parallel-item {display: flex;flex-direction: column;z-index: 1;position: relative;background-color: white;}#sk-container-id-2 div.sk-parallel-item:first-child::after {align-self: flex-end;width: 50%;}#sk-container-id-2 div.sk-parallel-item:last-child::after {align-self: flex-start;width: 50%;}#sk-container-id-2 div.sk-parallel-item:only-child::after {width: 0;}#sk-container-id-2 div.sk-dashed-wrapped {border: 1px dashed gray;margin: 0 0.4em 0.5em 0.4em;box-sizing: border-box;padding-bottom: 0.4em;background-color: white;}#sk-container-id-2 div.sk-label label {font-family: monospace;font-weight: bold;display: inline-block;line-height: 1.2em;}#sk-container-id-2 div.sk-label-container {text-align: center;}#sk-container-id-2 div.sk-container {/* jupyter's `normalize.less` sets `[hidden] { display: none; }` but bootstrap.min.css set `[hidden] { display: none !important; }` so we also need the `!important` here to be able to override the default hidden behavior on the sphinx rendered scikit-learn.org. See: https://github.com/scikit-learn/scikit-learn/issues/21755 */display: inline-block !important;position: relative;}#sk-container-id-2 div.sk-text-repr-fallback {display: none;}</style><div id=\"sk-container-id-2\" class=\"sk-top-container\"><div class=\"sk-text-repr-fallback\"><pre>RandomForestClassifier(criterion=&#x27;entropy&#x27;, max_depth=30, n_estimators=300)</pre><b>In a Jupyter environment, please rerun this cell to show the HTML representation or trust the notebook. <br />On GitHub, the HTML representation is unable to render, please try loading this page with nbviewer.org.</b></div><div class=\"sk-container\" hidden><div class=\"sk-item\"><div class=\"sk-estimator sk-toggleable\"><input class=\"sk-toggleable__control sk-hidden--visually\" id=\"sk-estimator-id-2\" type=\"checkbox\" checked><label for=\"sk-estimator-id-2\" class=\"sk-toggleable__label sk-toggleable__label-arrow\">RandomForestClassifier</label><div class=\"sk-toggleable__content\"><pre>RandomForestClassifier(criterion=&#x27;entropy&#x27;, max_depth=30, n_estimators=300)</pre></div></div></div></div></div>"
      ],
      "text/plain": [
       "RandomForestClassifier(criterion='entropy', max_depth=30, n_estimators=300)"
      ]
     },
     "execution_count": 67,
     "metadata": {},
     "output_type": "execute_result"
    }
   ],
   "source": [
    "from sklearn.model_selection import GridSearchCV\n",
    "\n",
    "params = {\n",
    "    'n_estimators': [100, 200, 300],\n",
    "    'criterion': ['gini', 'entropy'],\n",
    "    'max_depth': [None, 15, 30],\n",
    "}\n",
    "\n",
    "model = RandomForestClassifier(random_state=55)\n",
    "grid_search = GridSearchCV(estimator=model, param_grid=params, scoring='accuracy', cv=5, verbose=2)\n",
    "\n",
    "grid_search.fit(X_train, y_train)\n",
    "\n",
    "best_params = grid_search.best_params_\n",
    "best_score = grid_search.best_score_\n",
    "\n",
    "best_model = RandomForestClassifier(**best_params)\n",
    "best_model.fit(X_train, y_train)"
   ]
  },
  {
   "cell_type": "code",
   "execution_count": 71,
   "metadata": {},
   "outputs": [
    {
     "data": {
      "text/plain": [
       "({'criterion': 'entropy', 'max_depth': 30, 'n_estimators': 300},\n",
       " 0.9557866272053837)"
      ]
     },
     "execution_count": 71,
     "metadata": {},
     "output_type": "execute_result"
    }
   ],
   "source": [
    "best_params, best_score"
   ]
  },
  {
   "cell_type": "code",
   "execution_count": 72,
   "metadata": {},
   "outputs": [
    {
     "name": "stdout",
     "output_type": "stream",
     "text": [
      "Train data:\n",
      "\n",
      "Confusion matrix: \n",
      " [[1286    0    0    0    0]\n",
      " [   0  190    0    0    0]\n",
      " [   0    0 1410    0    0]\n",
      " [   0    0    0  572    0]\n",
      " [   0    0    0    0 5044]]\n",
      "Accuracy score:  1.0\n",
      "Precision score:  1.0\n",
      "Recall score:  1.0\n",
      "F1 score:  1.0\n",
      "\n",
      "--------------------------------------\n",
      "\n",
      "Test data:\n",
      "\n",
      "Confusion matrix: \n",
      " [[ 583    0    0    0    8]\n",
      " [   3   58   15    0    4]\n",
      " [   0    0  596    0    0]\n",
      " [   0    0    0  118  152]\n",
      " [   2    0    1    0 2104]]\n",
      "Accuracy score:  0.9492316136114161\n",
      "Precision score:  0.95253423868226\n",
      "Recall score:  0.9492316136114161\n",
      "F1 score:  0.9414476953238208\n"
     ]
    }
   ],
   "source": [
    "data_bs2 = pd.read_csv('../../data/preprocessed_data_BS2.csv')\n",
    "\n",
    "X = data_bs2.drop(['Group', 'Subgroups'], axis=1)\n",
    "y = data_bs2['Group']\n",
    "\n",
    "X_train, X_test, y_train, y_test = train_test_split(X, y, test_size=0.3, random_state=55)\n",
    "\n",
    "model_bs2 = build_model(best_model, X_train, X_test, y_train, y_test)"
   ]
  },
  {
   "cell_type": "code",
   "execution_count": 73,
   "metadata": {},
   "outputs": [
    {
     "name": "stdout",
     "output_type": "stream",
     "text": [
      "Train data:\n",
      "\n",
      "Confusion matrix: \n",
      " [[1240    0    0    0]\n",
      " [   0  593    0    0]\n",
      " [   0    0  230    0]\n",
      " [   0    0    0 9420]]\n",
      "Accuracy score:  1.0\n",
      "Precision score:  1.0\n",
      "Recall score:  1.0\n",
      "F1 score:  1.0\n",
      "\n",
      "--------------------------------------\n",
      "\n",
      "Test data:\n",
      "\n",
      "Confusion matrix: \n",
      " [[ 457    7    0   52]\n",
      " [   0  257    0    6]\n",
      " [   0    0   35   44]\n",
      " [   1   19    0 4044]]\n",
      "Accuracy score:  0.9737911418122714\n",
      "Precision score:  0.9745485949638031\n",
      "Recall score:  0.9737911418122714\n",
      "F1 score:  0.9719458882326201\n"
     ]
    }
   ],
   "source": [
    "data_geo = pd.read_csv('../../data/preprocessed_data_GEO.csv')\n",
    "\n",
    "X = data_geo.drop(['Group', 'Subgroups'], axis=1)\n",
    "y = data_geo['Group']\n",
    "\n",
    "X_train, X_test, y_train, y_test = train_test_split(X, y, test_size=0.3, random_state=55)\n",
    "\n",
    "model_geo = build_model(best_model, X_train, X_test, y_train, y_test)"
   ]
  },
  {
   "cell_type": "code",
   "execution_count": 74,
   "metadata": {},
   "outputs": [
    {
     "name": "stdout",
     "output_type": "stream",
     "text": [
      "Train data:\n",
      "\n",
      "Confusion matrix: \n",
      " [[ 6774     0     0     0]\n",
      " [    0  1311     0     0]\n",
      " [    0     0  5762     0]\n",
      " [    0     0     0 43852]]\n",
      "Accuracy score:  1.0\n",
      "Precision score:  1.0\n",
      "Recall score:  1.0\n",
      "F1 score:  1.0\n",
      "\n",
      "--------------------------------------\n",
      "\n",
      "Test data:\n",
      "\n",
      "Confusion matrix: \n",
      " [[ 2951     0     0     0]\n",
      " [    1   531     0     5]\n",
      " [    0     1  2399    17]\n",
      " [    3     2     2 18817]]\n",
      "Accuracy score:  0.9987464110962837\n",
      "Precision score:  0.9987461179057895\n",
      "Recall score:  0.9987464110962837\n",
      "F1 score:  0.9987448467633459\n"
     ]
    }
   ],
   "source": [
    "data_10x = pd.read_csv('../../data/preprocessed_data_10x.csv')\n",
    "\n",
    "X = data_10x.drop(['Group', 'Subgroups'], axis=1)\n",
    "y = data_10x['Group']\n",
    "\n",
    "X_train, X_test, y_train, y_test = train_test_split(X, y, test_size=0.3, random_state=55)\n",
    "\n",
    "model_10x = build_model(best_model, X_train, X_test, y_train, y_test)"
   ]
  },
  {
   "cell_type": "code",
   "execution_count": 68,
   "metadata": {},
   "outputs": [
    {
     "name": "stdout",
     "output_type": "stream",
     "text": [
      "['B' 'D' 'M' 'NK' 'T']\n",
      "Confusion matrix: \n",
      " [[1703    0    0    0  174]\n",
      " [ 132    0   72    0   66]\n",
      " [   9    0 1698    0  299]\n",
      " [   0    0    0  145  697]\n",
      " [   4    0    2    4 7141]]\n",
      "Accuracy score:  0.8798781491849168\n",
      "Precision score:  0.8700181932175319\n",
      "Recall score:  0.8798781491849168\n",
      "F1 score:  0.851557236803468\n"
     ]
    }
   ],
   "source": [
    "test_model(best_model, '../../data/preprocessed_data_BS2.csv')"
   ]
  },
  {
   "cell_type": "code",
   "execution_count": 69,
   "metadata": {},
   "outputs": [
    {
     "name": "stdout",
     "output_type": "stream",
     "text": [
      "['B' 'M' 'NK' 'T']\n",
      "Confusion matrix: \n",
      " [[ 1360   103    41   252]\n",
      " [    2   837     0    17]\n",
      " [    0     0    58   251]\n",
      " [  172   111    30 13171]]\n",
      "Accuracy score:  0.940323072234075\n",
      "Precision score:  0.9356486527893719\n",
      "Recall score:  0.940323072234075\n",
      "F1 score:  0.9360371781154433\n"
     ]
    }
   ],
   "source": [
    "test_model(best_model, '../../data/preprocessed_data_GEO.csv')"
   ]
  },
  {
   "cell_type": "code",
   "execution_count": 70,
   "metadata": {},
   "outputs": [
    {
     "name": "stdout",
     "output_type": "stream",
     "text": [
      "['B' 'M' 'NK' 'T']\n",
      "Confusion matrix: \n",
      " [[ 9454     0     0   271]\n",
      " [   81  1659     0   108]\n",
      " [    0     0  1318  6861]\n",
      " [   37     0     1 62638]]\n",
      "Accuracy score:  0.9107220847284904\n",
      "Precision score:  0.919688771332379\n",
      "Recall score:  0.9107220847284904\n",
      "F1 score:  0.8829768578076652\n"
     ]
    }
   ],
   "source": [
    "test_model(best_model, '../../data/preprocessed_data_10x.csv')"
   ]
  }
 ],
 "metadata": {
  "kernelspec": {
   "display_name": "Python 3",
   "language": "python",
   "name": "python3"
  },
  "language_info": {
   "codemirror_mode": {
    "name": "ipython",
    "version": 3
   },
   "file_extension": ".py",
   "mimetype": "text/x-python",
   "name": "python",
   "nbconvert_exporter": "python",
   "pygments_lexer": "ipython3",
   "version": "3.10.11"
  }
 },
 "nbformat": 4,
 "nbformat_minor": 2
}
