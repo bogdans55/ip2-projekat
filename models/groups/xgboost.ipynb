{
 "cells": [
  {
   "cell_type": "code",
   "execution_count": 1,
   "metadata": {},
   "outputs": [],
   "source": [
    "import numpy as np\n",
    "import matplotlib.pyplot as plt\n",
    "import pandas as pd\n",
    "import seaborn as sns\n",
    "from joblib import load"
   ]
  },
  {
   "cell_type": "code",
   "execution_count": 2,
   "metadata": {},
   "outputs": [
    {
     "data": {
      "text/html": [
       "<div>\n",
       "<style scoped>\n",
       "    .dataframe tbody tr th:only-of-type {\n",
       "        vertical-align: middle;\n",
       "    }\n",
       "\n",
       "    .dataframe tbody tr th {\n",
       "        vertical-align: top;\n",
       "    }\n",
       "\n",
       "    .dataframe thead th {\n",
       "        text-align: right;\n",
       "    }\n",
       "</style>\n",
       "<table border=\"1\" class=\"dataframe\">\n",
       "  <thead>\n",
       "    <tr style=\"text-align: right;\">\n",
       "      <th></th>\n",
       "      <th>hg38_ASF1A</th>\n",
       "      <th>hg38_CCT7</th>\n",
       "      <th>hg38_EPOR</th>\n",
       "      <th>hg38_NECAP2</th>\n",
       "      <th>hg38_LRRC8A</th>\n",
       "      <th>hg38_NDUFS8</th>\n",
       "      <th>hg38_MRPL22</th>\n",
       "      <th>hg38_HIST1H2BC</th>\n",
       "      <th>hg38_LY96</th>\n",
       "      <th>hg38_UBE2E2-AS1</th>\n",
       "      <th>...</th>\n",
       "      <th>hg38_ASPSCR1</th>\n",
       "      <th>hg38_CDC20</th>\n",
       "      <th>hg38_DNAJB9</th>\n",
       "      <th>hg38_OSTM1</th>\n",
       "      <th>hg38_LCNL1</th>\n",
       "      <th>hg38_PHB</th>\n",
       "      <th>hg38_LRRC29</th>\n",
       "      <th>hg38_ZFP36</th>\n",
       "      <th>Group</th>\n",
       "      <th>Subgroups</th>\n",
       "    </tr>\n",
       "  </thead>\n",
       "  <tbody>\n",
       "    <tr>\n",
       "      <th>0</th>\n",
       "      <td>0</td>\n",
       "      <td>0</td>\n",
       "      <td>0</td>\n",
       "      <td>0</td>\n",
       "      <td>0</td>\n",
       "      <td>0</td>\n",
       "      <td>0</td>\n",
       "      <td>0</td>\n",
       "      <td>0</td>\n",
       "      <td>0</td>\n",
       "      <td>...</td>\n",
       "      <td>0</td>\n",
       "      <td>0</td>\n",
       "      <td>0</td>\n",
       "      <td>0</td>\n",
       "      <td>0</td>\n",
       "      <td>0</td>\n",
       "      <td>0</td>\n",
       "      <td>0</td>\n",
       "      <td>B</td>\n",
       "      <td>Bmemory</td>\n",
       "    </tr>\n",
       "    <tr>\n",
       "      <th>1</th>\n",
       "      <td>0</td>\n",
       "      <td>0</td>\n",
       "      <td>0</td>\n",
       "      <td>3</td>\n",
       "      <td>0</td>\n",
       "      <td>3</td>\n",
       "      <td>0</td>\n",
       "      <td>0</td>\n",
       "      <td>0</td>\n",
       "      <td>0</td>\n",
       "      <td>...</td>\n",
       "      <td>0</td>\n",
       "      <td>0</td>\n",
       "      <td>0</td>\n",
       "      <td>0</td>\n",
       "      <td>0</td>\n",
       "      <td>0</td>\n",
       "      <td>0</td>\n",
       "      <td>0</td>\n",
       "      <td>B</td>\n",
       "      <td>Bmemory</td>\n",
       "    </tr>\n",
       "    <tr>\n",
       "      <th>2</th>\n",
       "      <td>0</td>\n",
       "      <td>0</td>\n",
       "      <td>0</td>\n",
       "      <td>0</td>\n",
       "      <td>0</td>\n",
       "      <td>0</td>\n",
       "      <td>0</td>\n",
       "      <td>0</td>\n",
       "      <td>0</td>\n",
       "      <td>0</td>\n",
       "      <td>...</td>\n",
       "      <td>0</td>\n",
       "      <td>0</td>\n",
       "      <td>2</td>\n",
       "      <td>0</td>\n",
       "      <td>0</td>\n",
       "      <td>2</td>\n",
       "      <td>0</td>\n",
       "      <td>3</td>\n",
       "      <td>B</td>\n",
       "      <td>Bmemory</td>\n",
       "    </tr>\n",
       "    <tr>\n",
       "      <th>3</th>\n",
       "      <td>0</td>\n",
       "      <td>0</td>\n",
       "      <td>0</td>\n",
       "      <td>0</td>\n",
       "      <td>0</td>\n",
       "      <td>3</td>\n",
       "      <td>0</td>\n",
       "      <td>0</td>\n",
       "      <td>0</td>\n",
       "      <td>0</td>\n",
       "      <td>...</td>\n",
       "      <td>0</td>\n",
       "      <td>0</td>\n",
       "      <td>3</td>\n",
       "      <td>0</td>\n",
       "      <td>0</td>\n",
       "      <td>3</td>\n",
       "      <td>0</td>\n",
       "      <td>0</td>\n",
       "      <td>B</td>\n",
       "      <td>Bmemory</td>\n",
       "    </tr>\n",
       "    <tr>\n",
       "      <th>4</th>\n",
       "      <td>0</td>\n",
       "      <td>0</td>\n",
       "      <td>0</td>\n",
       "      <td>0</td>\n",
       "      <td>0</td>\n",
       "      <td>3</td>\n",
       "      <td>0</td>\n",
       "      <td>0</td>\n",
       "      <td>0</td>\n",
       "      <td>0</td>\n",
       "      <td>...</td>\n",
       "      <td>0</td>\n",
       "      <td>0</td>\n",
       "      <td>0</td>\n",
       "      <td>0</td>\n",
       "      <td>0</td>\n",
       "      <td>0</td>\n",
       "      <td>0</td>\n",
       "      <td>0</td>\n",
       "      <td>B</td>\n",
       "      <td>Bmemory</td>\n",
       "    </tr>\n",
       "  </tbody>\n",
       "</table>\n",
       "<p>5 rows × 10563 columns</p>\n",
       "</div>"
      ],
      "text/plain": [
       "   hg38_ASF1A  hg38_CCT7  hg38_EPOR  hg38_NECAP2  hg38_LRRC8A  hg38_NDUFS8  \\\n",
       "0           0          0          0            0            0            0   \n",
       "1           0          0          0            3            0            3   \n",
       "2           0          0          0            0            0            0   \n",
       "3           0          0          0            0            0            3   \n",
       "4           0          0          0            0            0            3   \n",
       "\n",
       "   hg38_MRPL22  hg38_HIST1H2BC  hg38_LY96  hg38_UBE2E2-AS1  ...  hg38_ASPSCR1  \\\n",
       "0            0               0          0                0  ...             0   \n",
       "1            0               0          0                0  ...             0   \n",
       "2            0               0          0                0  ...             0   \n",
       "3            0               0          0                0  ...             0   \n",
       "4            0               0          0                0  ...             0   \n",
       "\n",
       "   hg38_CDC20  hg38_DNAJB9  hg38_OSTM1  hg38_LCNL1  hg38_PHB  hg38_LRRC29  \\\n",
       "0           0            0           0           0         0            0   \n",
       "1           0            0           0           0         0            0   \n",
       "2           0            2           0           0         2            0   \n",
       "3           0            3           0           0         3            0   \n",
       "4           0            0           0           0         0            0   \n",
       "\n",
       "   hg38_ZFP36  Group  Subgroups  \n",
       "0           0      B    Bmemory  \n",
       "1           0      B    Bmemory  \n",
       "2           3      B    Bmemory  \n",
       "3           0      B    Bmemory  \n",
       "4           0      B    Bmemory  \n",
       "\n",
       "[5 rows x 10563 columns]"
      ]
     },
     "execution_count": 2,
     "metadata": {},
     "output_type": "execute_result"
    }
   ],
   "source": [
    "data_bs1 = pd.read_csv('../../data/preprocessed_data_BS1.csv')\n",
    "data_bs1.head()"
   ]
  },
  {
   "cell_type": "code",
   "execution_count": 3,
   "metadata": {},
   "outputs": [],
   "source": [
    "X = data_bs1.drop(['Group', 'Subgroups'], axis=1)\n",
    "y = data_bs1['Group']"
   ]
  },
  {
   "cell_type": "code",
   "execution_count": 4,
   "metadata": {},
   "outputs": [
    {
     "data": {
      "text/plain": [
       "array(['B', 'D', 'M', 'NK', 'T'], dtype=object)"
      ]
     },
     "execution_count": 4,
     "metadata": {},
     "output_type": "execute_result"
    }
   ],
   "source": [
    "y.unique()"
   ]
  },
  {
   "cell_type": "code",
   "execution_count": 5,
   "metadata": {},
   "outputs": [],
   "source": [
    "def replace_values(y):\n",
    "    return y.replace({'B': 0, 'M': 1, 'NK': 2, 'T': 3, 'D': 4}, regex=True)"
   ]
  },
  {
   "cell_type": "code",
   "execution_count": 6,
   "metadata": {},
   "outputs": [
    {
     "data": {
      "text/plain": [
       "(0    0\n",
       " 1    0\n",
       " 2    0\n",
       " 3    0\n",
       " 4    0\n",
       " Name: Group, dtype: int64,\n",
       " 0    B\n",
       " 1    B\n",
       " 2    B\n",
       " 3    B\n",
       " 4    B\n",
       " Name: Group, dtype: object)"
      ]
     },
     "execution_count": 6,
     "metadata": {},
     "output_type": "execute_result"
    }
   ],
   "source": [
    "encoded_y = replace_values(y)\n",
    "encoded_y[:5], y[:5]"
   ]
  },
  {
   "cell_type": "code",
   "execution_count": 7,
   "metadata": {},
   "outputs": [],
   "source": [
    "from sklearn.model_selection import train_test_split\n",
    "\n",
    "X_train, X_test, y_train, y_test = train_test_split(X, encoded_y, test_size=0.3, random_state=55)"
   ]
  },
  {
   "cell_type": "code",
   "execution_count": 8,
   "metadata": {},
   "outputs": [],
   "source": [
    "from sklearn.metrics import confusion_matrix, accuracy_score, precision_score, recall_score, f1_score"
   ]
  },
  {
   "cell_type": "code",
   "execution_count": 9,
   "metadata": {},
   "outputs": [],
   "source": [
    "def model_info(y_real, y_pred):\n",
    "    print('Confusion matrix: \\n', confusion_matrix(y_real, y_pred))\n",
    "    print('Accuracy score: ', accuracy_score(y_real, y_pred))\n",
    "    print('Precision score: ', precision_score(y_real, y_pred, average='weighted', zero_division=0))\n",
    "    print('Recall score: ', recall_score(y_real, y_pred, average='weighted'))\n",
    "    print('F1 score: ', f1_score(y_real, y_pred, average='weighted'))"
   ]
  },
  {
   "cell_type": "code",
   "execution_count": 10,
   "metadata": {},
   "outputs": [],
   "source": [
    "def build_model(model, X_train, X_test, y_train, y_test):\n",
    "    model.fit(X_train, y_train)\n",
    "\n",
    "    print('Train data:\\n')\n",
    "    y_train_pred = model.predict(X_train)\n",
    "    model_info(y_train, y_train_pred)\n",
    "\n",
    "    print('\\n--------------------------------------\\n')\n",
    "\n",
    "    print('Test data:\\n')\n",
    "    y_pred = model.predict(X_test)\n",
    "    model_info(y_test, y_pred)\n",
    "\n",
    "    return model"
   ]
  },
  {
   "cell_type": "code",
   "execution_count": 11,
   "metadata": {},
   "outputs": [],
   "source": [
    "from xgboost import XGBClassifier\n",
    "\n",
    "model_bs1 = XGBClassifier(random_state=55)"
   ]
  },
  {
   "cell_type": "code",
   "execution_count": 12,
   "metadata": {},
   "outputs": [
    {
     "name": "stdout",
     "output_type": "stream",
     "text": [
      "Train data:\n",
      "\n",
      "Confusion matrix: \n",
      " [[1142    0    0    0    0]\n",
      " [   0 1165    0    0    0]\n",
      " [   0    0 1002    0    0]\n",
      " [   0    0    0 5818    0]\n",
      " [   0    0    0    0  101]]\n",
      "Accuracy score:  1.0\n",
      "Precision score:  1.0\n",
      "Recall score:  1.0\n",
      "F1 score:  1.0\n",
      "\n",
      "--------------------------------------\n",
      "\n",
      "Test data:\n",
      "\n",
      "Confusion matrix: \n",
      " [[ 516    1    0    1    0]\n",
      " [   0  493    0    2    1]\n",
      " [   1    0  342   49    0]\n",
      " [   1    1   80 2426    0]\n",
      " [   0    1    0    0   40]]\n",
      "Accuracy score:  0.9651074589127686\n",
      "Precision score:  0.966386261400732\n",
      "Recall score:  0.9651074589127686\n",
      "F1 score:  0.9656112385929325\n"
     ]
    }
   ],
   "source": [
    "model_bs1 = build_model(model_bs1, X_train, X_test, y_train, y_test)"
   ]
  },
  {
   "cell_type": "code",
   "execution_count": 13,
   "metadata": {},
   "outputs": [],
   "source": [
    "# from sklearn.model_selection import GridSearchCV\n",
    "\n",
    "# params = {\n",
    "#     'n_estimators': [100, 200, 300],\n",
    "#     'max_depth': [3, 4, 5],\n",
    "#     'learning_rate': [0.01, 0.1, 0.2]\n",
    "# }\n",
    "\n",
    "# model = XGBClassifier(random_state=55)\n",
    "# grid_search = GridSearchCV(estimator=model, param_grid=params, scoring='accuracy', cv=3, verbose=1)\n",
    "\n",
    "# grid_search.fit(X_train, y_train)\n",
    "\n",
    "# best_params = grid_search.best_params_\n",
    "# best_score = grid_search.best_score_\n",
    "\n",
    "# best_model = XGBClassifier(**best_params, random_state=55)\n",
    "# best_model.fit(X_train, y_train)"
   ]
  },
  {
   "cell_type": "code",
   "execution_count": 14,
   "metadata": {},
   "outputs": [],
   "source": [
    "# best_params, best_score"
   ]
  },
  {
   "cell_type": "code",
   "execution_count": 15,
   "metadata": {},
   "outputs": [],
   "source": [
    "best_model = model_bs1"
   ]
  },
  {
   "cell_type": "code",
   "execution_count": 16,
   "metadata": {},
   "outputs": [
    {
     "name": "stdout",
     "output_type": "stream",
     "text": [
      "Train data:\n",
      "\n",
      "Confusion matrix: \n",
      " [[1286    0    0    0    0]\n",
      " [   0 1410    0    0    0]\n",
      " [   0    0  572    0    0]\n",
      " [   0    0    0 5044    0]\n",
      " [   0    0    0    0  190]]\n",
      "Accuracy score:  1.0\n",
      "Precision score:  1.0\n",
      "Recall score:  1.0\n",
      "F1 score:  1.0\n",
      "\n",
      "--------------------------------------\n",
      "\n",
      "Test data:\n",
      "\n",
      "Confusion matrix: \n",
      " [[ 585    0    0    6    0]\n",
      " [   0  593    0    0    3]\n",
      " [   0    0  216   54    0]\n",
      " [   1    2   26 2078    0]\n",
      " [   1    6    0    2   71]]\n",
      "Accuracy score:  0.9722832052689352\n",
      "Precision score:  0.9716678085018201\n",
      "Recall score:  0.9722832052689352\n",
      "F1 score:  0.971718350494811\n",
      "\n",
      "--------------------------------------\n",
      "\n",
      "Confusion matrix: \n",
      " [[1681    0    0  196    0]\n",
      " [  39  525    0 1442    0]\n",
      " [   0    0   71  771    0]\n",
      " [  17    2   41 7091    0]\n",
      " [  26   33    0  147   64]]\n",
      "Accuracy score:  0.7765519512596739\n",
      "Precision score:  0.8011207646893466\n",
      "Recall score:  0.7765519512596739\n",
      "F1 score:  0.726218758026274\n"
     ]
    }
   ],
   "source": [
    "data_bs2 = pd.read_csv('../../data/preprocessed_data_BS2.csv')\n",
    "\n",
    "X = data_bs2.drop(['Group', 'Subgroups'], axis=1)\n",
    "y = data_bs2['Group']\n",
    "encoded_y = replace_values(y)\n",
    "\n",
    "X_train_bs2, X_test_bs2, y_train_bs2, y_test_bs2 = train_test_split(X, encoded_y, test_size=0.3, random_state=55)\n",
    "\n",
    "model_bs2 = build_model(best_model, X_train_bs2, X_test_bs2, y_train_bs2, y_test_bs2)\n",
    "print('\\n--------------------------------------\\n')\n",
    "\n",
    "X_test_data = data_bs2.drop(['Group', 'Subgroups'], axis=1)\n",
    "y_test_data = data_bs2['Group']\n",
    "encoded_y_test_data = replace_values(y_test_data)\n",
    "\n",
    "test_model = best_model.fit(X_train, y_train)\n",
    "y_pred = best_model.predict(X_test_data)\n",
    "model_info(encoded_y_test_data, y_pred)"
   ]
  },
  {
   "cell_type": "code",
   "execution_count": 17,
   "metadata": {},
   "outputs": [
    {
     "name": "stdout",
     "output_type": "stream",
     "text": [
      "Train data:\n",
      "\n",
      "Confusion matrix: \n",
      " [[1240    0    0    0]\n",
      " [   0  593    0    0]\n",
      " [   0    0  230    0]\n",
      " [   0    0    0 9420]]\n",
      "Accuracy score:  1.0\n",
      "Precision score:  1.0\n",
      "Recall score:  1.0\n",
      "F1 score:  1.0\n",
      "\n",
      "--------------------------------------\n",
      "\n",
      "Test data:\n",
      "\n",
      "Confusion matrix: \n",
      " [[ 515    0    0    1]\n",
      " [   0  259    0    4]\n",
      " [   0    0   67   12]\n",
      " [   1    3    0 4060]]\n",
      "Accuracy score:  0.9957334416903698\n",
      "Precision score:  0.9957421284320858\n",
      "Recall score:  0.9957334416903698\n",
      "F1 score:  0.9956353006156735\n",
      "\n",
      "--------------------------------------\n",
      "\n",
      "Confusion matrix: \n",
      " [[ 1363   101    80   211     1]\n",
      " [    3   821     2    15    15]\n",
      " [    0     0   285    24     0]\n",
      " [  192   109   304 12868    11]\n",
      " [    0     0     0     0     0]]\n",
      "Accuracy score:  0.9348978969826273\n",
      "Precision score:  0.9494747025921002\n",
      "Recall score:  0.9348978969826273\n",
      "F1 score:  0.9395953833415543\n"
     ]
    },
    {
     "name": "stderr",
     "output_type": "stream",
     "text": [
      "C:\\Users\\bogda\\AppData\\Local\\Packages\\PythonSoftwareFoundation.Python.3.10_qbz5n2kfra8p0\\LocalCache\\local-packages\\Python310\\site-packages\\sklearn\\metrics\\_classification.py:1344: UndefinedMetricWarning: Recall is ill-defined and being set to 0.0 in labels with no true samples. Use `zero_division` parameter to control this behavior.\n",
      "  _warn_prf(average, modifier, msg_start, len(result))\n"
     ]
    }
   ],
   "source": [
    "data_geo = pd.read_csv('../../data/preprocessed_data_GEO.csv')\n",
    "\n",
    "X = data_geo.drop(['Group', 'Subgroups'], axis=1)\n",
    "y = data_geo['Group']\n",
    "encoded_y = replace_values(y)\n",
    "\n",
    "X_train_geo, X_test_geo, y_train_geo, y_test_geo = train_test_split(X, encoded_y, test_size=0.3, random_state=55)\n",
    "\n",
    "model_geo = build_model(best_model, X_train_geo, X_test_geo, y_train_geo, y_test_geo)\n",
    "print('\\n--------------------------------------\\n')\n",
    "\n",
    "X_test_data = data_geo.drop(['Group', 'Subgroups'], axis=1)\n",
    "y_test_data = data_geo['Group']\n",
    "encoded_y_test_data = replace_values(y_test_data)\n",
    "\n",
    "test_model = best_model.fit(X_train, y_train)\n",
    "y_pred = best_model.predict(X_test_data)\n",
    "model_info(encoded_y_test_data, y_pred)"
   ]
  },
  {
   "cell_type": "code",
   "execution_count": 18,
   "metadata": {},
   "outputs": [
    {
     "data": {
      "text/plain": [
       "(3    13118\n",
       " 0     1558\n",
       " 1     1031\n",
       " 2      671\n",
       " 4       27\n",
       " dtype: int64,\n",
       " 3    13484\n",
       " 0     1756\n",
       " 1      856\n",
       " 2      309\n",
       " Name: Group, dtype: int64)"
      ]
     },
     "execution_count": 18,
     "metadata": {},
     "output_type": "execute_result"
    }
   ],
   "source": [
    "pd.Series(y_pred).value_counts(), encoded_y_test_data.value_counts()"
   ]
  },
  {
   "cell_type": "code",
   "execution_count": 19,
   "metadata": {},
   "outputs": [
    {
     "name": "stdout",
     "output_type": "stream",
     "text": [
      "Train data:\n",
      "\n",
      "Confusion matrix: \n",
      " [[ 6774     0     0     0]\n",
      " [    0  1311     0     0]\n",
      " [    0     0  5762     0]\n",
      " [    0     0     0 43852]]\n",
      "Accuracy score:  1.0\n",
      "Precision score:  1.0\n",
      "Recall score:  1.0\n",
      "F1 score:  1.0\n",
      "\n",
      "--------------------------------------\n",
      "\n",
      "Test data:\n",
      "\n",
      "Confusion matrix: \n",
      " [[ 2950     0     0     1]\n",
      " [    1   535     0     1]\n",
      " [    0     1  2408     8]\n",
      " [    3     0     5 18816]]\n",
      "Accuracy score:  0.9991912329653443\n",
      "Precision score:  0.9991910295822604\n",
      "Recall score:  0.9991912329653443\n",
      "F1 score:  0.9991910127035707\n",
      "\n",
      "--------------------------------------\n",
      "\n",
      "Confusion matrix: \n",
      " [[ 9647     0     0    78     0]\n",
      " [   30  1660     3    63    92]\n",
      " [    0     0  7605   574     0]\n",
      " [   47     8   102 62511     8]\n",
      " [    0     0     0     0     0]]\n",
      "Accuracy score:  0.9878075411268016\n",
      "Precision score:  0.9890081205892475\n",
      "Recall score:  0.9878075411268016\n",
      "F1 score:  0.9882549614820992\n"
     ]
    },
    {
     "name": "stderr",
     "output_type": "stream",
     "text": [
      "C:\\Users\\bogda\\AppData\\Local\\Packages\\PythonSoftwareFoundation.Python.3.10_qbz5n2kfra8p0\\LocalCache\\local-packages\\Python310\\site-packages\\sklearn\\metrics\\_classification.py:1344: UndefinedMetricWarning: Recall is ill-defined and being set to 0.0 in labels with no true samples. Use `zero_division` parameter to control this behavior.\n",
      "  _warn_prf(average, modifier, msg_start, len(result))\n"
     ]
    }
   ],
   "source": [
    "data_10x = pd.read_csv('../../data/preprocessed_data_10x.csv')\n",
    "\n",
    "X = data_10x.drop(['Group', 'Subgroups'], axis=1)\n",
    "y = data_10x['Group']\n",
    "encoded_y = replace_values(y)\n",
    "\n",
    "X_train_10x, X_test_10x, y_train_10x, y_test_10x = train_test_split(X, encoded_y, test_size=0.3, random_state=55)\n",
    "\n",
    "model_10x = build_model(best_model, X_train_10x, X_test_10x, y_train_10x, y_test_10x)\n",
    "print('\\n--------------------------------------\\n')\n",
    "\n",
    "X_test_data = data_10x.drop(['Group', 'Subgroups'], axis=1)\n",
    "y_test_data = data_10x['Group']\n",
    "encoded_y_test_data = replace_values(y_test_data)\n",
    "\n",
    "test_model = best_model.fit(X_train, y_train)\n",
    "y_pred = best_model.predict(X_test_data)\n",
    "model_info(encoded_y_test_data, y_pred)"
   ]
  },
  {
   "cell_type": "code",
   "execution_count": null,
   "metadata": {},
   "outputs": [],
   "source": []
  }
 ],
 "metadata": {
  "kernelspec": {
   "display_name": "Python 3",
   "language": "python",
   "name": "python3"
  },
  "language_info": {
   "codemirror_mode": {
    "name": "ipython",
    "version": 3
   },
   "file_extension": ".py",
   "mimetype": "text/x-python",
   "name": "python",
   "nbconvert_exporter": "python",
   "pygments_lexer": "ipython3",
   "version": "3.10.11"
  }
 },
 "nbformat": 4,
 "nbformat_minor": 2
}
